{
  "nbformat": 4,
  "nbformat_minor": 0,
  "metadata": {
    "colab": {
      "name": "Cópia de inf-0617-trabalho-2-francine-lucasinfante-lucio.ipynb",
      "provenance": [],
      "collapsed_sections": [],
      "include_colab_link": true
    },
    "kernelspec": {
      "name": "python3",
      "display_name": "Python 3"
    }
  },
  "cells": [
    {
      "cell_type": "markdown",
      "metadata": {
        "id": "view-in-github",
        "colab_type": "text"
      },
      "source": [
        "<a href=\"https://colab.research.google.com/github/luciojorge/PythonFundamentos/blob/master/C%C3%B3pia_de_inf_0617_trabalho_2_francine_lucasinfante_lucio.ipynb\" target=\"_parent\"><img src=\"https://colab.research.google.com/assets/colab-badge.svg\" alt=\"Open In Colab\"/></a>"
      ]
    },
    {
      "cell_type": "markdown",
      "metadata": {
        "id": "OR1hVBkX57lV"
      },
      "source": [
        "**Grupo**:\n",
        "\n",
        "Francine Domingos de Paula\n",
        "\n",
        "Lucas Moreira Vidigal Infante\n",
        "\n",
        "Lucio Andre de Castro Jorge"
      ]
    },
    {
      "cell_type": "markdown",
      "metadata": {
        "id": "1pkxSQ7daQk0"
      },
      "source": [
        "# Pacote de dados\n",
        "\n",
        "\n",
        "*   Abra o link do pacote de dados: https://tinyurl.com/bd9-twitter\n",
        "*   Selecione a opção \"Adicionar Atalho ao Drive\""
      ]
    },
    {
      "cell_type": "code",
      "metadata": {
        "id": "42wAmUtHclQi",
        "colab": {
          "base_uri": "https://localhost:8080/"
        },
        "outputId": "7d1a5ad4-d6f8-4d90-91c3-1a94978fc302"
      },
      "source": [
        "!pip install mrjob"
      ],
      "execution_count": null,
      "outputs": [
        {
          "output_type": "stream",
          "text": [
            "Collecting mrjob\n",
            "\u001b[?25l  Downloading https://files.pythonhosted.org/packages/8e/58/fc28ab743aba16e90736ad4e29694bd2adaf7b879376ff149306d50c4e90/mrjob-0.7.4-py2.py3-none-any.whl (439kB)\n",
            "\u001b[K     |████████████████████████████████| 440kB 3.9MB/s \n",
            "\u001b[?25hRequirement already satisfied: PyYAML>=3.10 in /usr/local/lib/python3.7/dist-packages (from mrjob) (3.13)\n",
            "Installing collected packages: mrjob\n",
            "Successfully installed mrjob-0.7.4\n"
          ],
          "name": "stdout"
        }
      ]
    },
    {
      "cell_type": "code",
      "metadata": {
        "id": "1P8u-xDBcyhv",
        "colab": {
          "base_uri": "https://localhost:8080/"
        },
        "outputId": "9725a0e3-7021-41e6-8f15-2d843d31961a"
      },
      "source": [
        "from google.colab import drive\n",
        "drive.mount('/content/drive')"
      ],
      "execution_count": null,
      "outputs": [
        {
          "output_type": "stream",
          "text": [
            "Mounted at /content/drive\n"
          ],
          "name": "stdout"
        }
      ]
    },
    {
      "cell_type": "code",
      "metadata": {
        "id": "antgULJUdK25",
        "colab": {
          "base_uri": "https://localhost:8080/"
        },
        "outputId": "026b7f79-b557-4803-ad3c-2f88d464ecae"
      },
      "source": [
        "%%file trab2.py\n",
        "from mrjob.job import MRJob\n",
        "import re\n",
        "\n",
        "class Sentiment(MRJob):\n",
        "\n",
        "  def configure_args(self):\n",
        "    super(Sentiment, self).configure_args()\n",
        "    self.add_passthru_arg('--positiveFile', default=\"/content/drive/My Drive/twitter_cs/positive-words.txt\")\n",
        "    self.add_passthru_arg('--negativeFile', default=\"/content/drive/My Drive/twitter_cs/negative-words.txt\")  \n",
        "\n",
        "  def mapper_init(self):\n",
        "    with open(self.options.positiveFile, \"r\") as positive_file:\n",
        "      self.posf = set([line.lower().strip() for line in positive_file.readlines()])\n",
        "    with open(self.options.negativeFile, \"r\") as negative_file:\n",
        "      self.negf = set([line.lower().strip() for line in negative_file.readlines()])\n",
        "    print(self.posf)\n",
        "    # Ler o conteúdo dos arquivos e transformar em listas/conjuntos de palavras\n",
        "\n",
        "  # def mapper(self, _, line):\n",
        "  #   # Modificar saída do mapper conforme o enunciado\n",
        "  #   yield None, [0, 0]\n",
        "\n",
        "  # def combiner(self, key, values):\n",
        "  #   # Modificar saída do combiner conforme o enunciado\n",
        "  #   yield None, [0, 0]\n",
        "\n",
        "  # def reducer(self, key, values):\n",
        "  #   # Modificar saída do reducer conforme o enunciado\n",
        "  #   yield key, 0\n",
        "\n",
        "if __name__ == '__main__':\n",
        "    Sentiment.run()"
      ],
      "execution_count": null,
      "outputs": [
        {
          "output_type": "stream",
          "text": [
            "Overwriting trab2.py\n"
          ],
          "name": "stdout"
        }
      ]
    },
    {
      "cell_type": "code",
      "metadata": {
        "colab": {
          "base_uri": "https://localhost:8080/"
        },
        "id": "BygVmz6JuJLL",
        "outputId": "e1ec1d72-02c1-41f0-f06e-477b1bbbeeb2"
      },
      "source": [
        "!python trab2.py \"/content/drive/My Drive/twitter_cs/sample_clean.csv\" "
      ],
      "execution_count": null,
      "outputs": [
        {
          "output_type": "stream",
          "text": [
            "No configs found; falling back on auto-configuration\n",
            "No configs specified for inline runner\n",
            "Creating temp directory /tmp/trab2.root.20210525.004814.781749\n",
            "Running step 1 of 1...\n",
            "\n",
            "Error while reading from /tmp/trab2.root.20210525.004814.781749/step/000/mapper/00000/input:\n",
            "\n",
            "Traceback (most recent call last):\n",
            "  File \"trab2.py\", line 33, in <module>\n",
            "    Sentiment.run()\n",
            "  File \"/usr/local/lib/python3.7/dist-packages/mrjob/job.py\", line 616, in run\n",
            "    cls().execute()\n",
            "  File \"/usr/local/lib/python3.7/dist-packages/mrjob/job.py\", line 687, in execute\n",
            "    self.run_job()\n",
            "  File \"/usr/local/lib/python3.7/dist-packages/mrjob/job.py\", line 636, in run_job\n",
            "    runner.run()\n",
            "  File \"/usr/local/lib/python3.7/dist-packages/mrjob/runner.py\", line 503, in run\n",
            "    self._run()\n",
            "  File \"/usr/local/lib/python3.7/dist-packages/mrjob/sim.py\", line 161, in _run\n",
            "    self._run_step(step, step_num)\n",
            "  File \"/usr/local/lib/python3.7/dist-packages/mrjob/sim.py\", line 170, in _run_step\n",
            "    self._run_streaming_step(step, step_num)\n",
            "  File \"/usr/local/lib/python3.7/dist-packages/mrjob/sim.py\", line 181, in _run_streaming_step\n",
            "    self._run_mappers_and_combiners(step_num, map_splits)\n",
            "  File \"/usr/local/lib/python3.7/dist-packages/mrjob/sim.py\", line 222, in _run_mappers_and_combiners\n",
            "    for task_num, map_split in enumerate(map_splits)\n",
            "  File \"/usr/local/lib/python3.7/dist-packages/mrjob/sim.py\", line 130, in _run_multiple\n",
            "    func()\n",
            "  File \"/usr/local/lib/python3.7/dist-packages/mrjob/sim.py\", line 724, in _run_mapper_and_combiner\n",
            "    run_mapper()\n",
            "  File \"/usr/local/lib/python3.7/dist-packages/mrjob/sim.py\", line 747, in _run_task\n",
            "    stdin, stdout, stderr, wd, env)\n",
            "  File \"/usr/local/lib/python3.7/dist-packages/mrjob/inline.py\", line 133, in invoke_task\n",
            "    task.execute()\n",
            "  File \"/usr/local/lib/python3.7/dist-packages/mrjob/job.py\", line 675, in execute\n",
            "    self.run_mapper(self.options.step_num)\n",
            "  File \"/usr/local/lib/python3.7/dist-packages/mrjob/job.py\", line 760, in run_mapper\n",
            "    for k, v in self.map_pairs(read_lines(), step_num=step_num):\n",
            "  File \"/usr/local/lib/python3.7/dist-packages/mrjob/job.py\", line 819, in map_pairs\n",
            "    for k, v in mapper_init() or ():\n",
            "  File \"trab2.py\", line 12, in mapper_init\n",
            "    print(self.options)\n",
            "TypeError: a bytes-like object is required, not 'str'\n"
          ],
          "name": "stdout"
        }
      ]
    },
    {
      "cell_type": "code",
      "metadata": {
        "colab": {
          "base_uri": "https://localhost:8080/"
        },
        "id": "jBHaRS5l1bML",
        "outputId": "303d9174-bb3b-497a-d8e6-d925ef4c2802"
      },
      "source": [
        "!python trab2.py \"/content/drive/My Drive/twitter_cs/sample_clean_larger.csv.gz\" "
      ],
      "execution_count": null,
      "outputs": [
        {
          "output_type": "stream",
          "text": [
            "No configs found; falling back on auto-configuration\n",
            "No configs specified for inline runner\n",
            "Creating temp directory /tmp/trab2.root.20210518.135508.868545\n",
            "Running step 1 of 1...\n",
            "job output is in /tmp/trab2.root.20210518.135508.868545/output\n",
            "Streaming final output from /tmp/trab2.root.20210518.135508.868545/output...\n",
            "null\t0\n",
            "Removing temp directory /tmp/trab2.root.20210518.135508.868545...\n"
          ],
          "name": "stdout"
        }
      ]
    },
    {
      "cell_type": "code",
      "metadata": {
        "id": "GudZj_UfJgR5",
        "colab": {
          "base_uri": "https://localhost:8080/"
        },
        "outputId": "42dbd483-cba5-4528-f4c1-33ff8c1e4444"
      },
      "source": [
        "!time python trab2.py \"/content/drive/My Drive/twitter_cs/twcs_clean.csv.gz\""
      ],
      "execution_count": null,
      "outputs": [
        {
          "output_type": "stream",
          "text": [
            "No configs found; falling back on auto-configuration\n",
            "No configs specified for inline runner\n",
            "Creating temp directory /tmp/trab2.root.20210518.135514.198926\n",
            "Running step 1 of 1...\n",
            "job output is in /tmp/trab2.root.20210518.135514.198926/output\n",
            "Streaming final output from /tmp/trab2.root.20210518.135514.198926/output...\n",
            "null\t0\n",
            "Removing temp directory /tmp/trab2.root.20210518.135514.198926...\n",
            "\n",
            "real\t0m44.886s\n",
            "user\t0m39.635s\n",
            "sys\t0m2.506s\n"
          ],
          "name": "stdout"
        }
      ]
    }
  ]
}